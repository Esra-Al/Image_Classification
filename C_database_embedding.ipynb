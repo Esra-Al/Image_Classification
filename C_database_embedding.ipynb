{
 "cells": [
  {
   "cell_type": "markdown",
   "metadata": {},
   "source": [
    "# import libraries"
   ]
  },
  {
   "cell_type": "code",
   "execution_count": 1,
   "metadata": {},
   "outputs": [],
   "source": [
    "# !pip install openai --upgrade"
   ]
  },
  {
   "cell_type": "code",
   "execution_count": 1,
   "metadata": {},
   "outputs": [],
   "source": [
    "import os\n",
    "import json\n",
    "import re\n",
    "import pandas as pd\n",
    "from C_D_create_embeddings import embed_caption_api"
   ]
  },
  {
   "cell_type": "markdown",
   "metadata": {},
   "source": [
    "# Define Category and Filenames"
   ]
  },
  {
   "cell_type": "code",
   "execution_count": 2,
   "metadata": {},
   "outputs": [],
   "source": [
    "# do it for each category, dress, outerwear\n",
    "fashion_category = \"dress\"\n",
    "\n",
    "# Specify the path of images\n",
    "category_folder_path = f\"C:/Users/Esra/Desktop/Deep_Learning/Image_Classification/Fashion/Classify_ThreadUp_Images/data/threadup/{fashion_category}/\"\n",
    "\n",
    "# Specify the csv filename to store captions\n",
    "captions_csv = f'thread_descriptions_{fashion_category}.csv'\n",
    "\n",
    "#for visualizing data from csv files\n",
    "captions_csv_path = os.path.join(category_folder_path, captions_csv)\n",
    "\n",
    "emb_type = \"small\"\n",
    "# Specify the filename to store embeddings of the image captions\n",
    "embeddings_json_path =  os.path.join(category_folder_path, f'embeddings_dict_batch_dress_{emb_type}.json')"
   ]
  },
  {
   "cell_type": "markdown",
   "metadata": {},
   "source": [
    "# Create Database"
   ]
  },
  {
   "cell_type": "code",
   "execution_count": 3,
   "metadata": {},
   "outputs": [
    {
     "data": {
      "text/html": [
       "<div>\n",
       "<style scoped>\n",
       "    .dataframe tbody tr th:only-of-type {\n",
       "        vertical-align: middle;\n",
       "    }\n",
       "\n",
       "    .dataframe tbody tr th {\n",
       "        vertical-align: top;\n",
       "    }\n",
       "\n",
       "    .dataframe thead th {\n",
       "        text-align: right;\n",
       "    }\n",
       "</style>\n",
       "<table border=\"1\" class=\"dataframe\">\n",
       "  <thead>\n",
       "    <tr style=\"text-align: right;\">\n",
       "      <th></th>\n",
       "      <th>filename</th>\n",
       "      <th>Overall Description</th>\n",
       "      <th>Specific Category</th>\n",
       "      <th>Color</th>\n",
       "      <th>Material</th>\n",
       "      <th>Features</th>\n",
       "      <th>Vibe</th>\n",
       "      <th>Cut</th>\n",
       "      <th>Occasion</th>\n",
       "    </tr>\n",
       "  </thead>\n",
       "  <tbody>\n",
       "    <tr>\n",
       "      <th>0</th>\n",
       "      <td>item154048282.jpg</td>\n",
       "      <td>A long-sleeved black dress with a modest scoop...</td>\n",
       "      <td>Long-sleeved dress.</td>\n",
       "      <td>Solid black with no visible patterns or designs.</td>\n",
       "      <td>Appears to be a knit fabric, likely a stretch ...</td>\n",
       "      <td>Simple scoop neckline, long fitted sleeves, an...</td>\n",
       "      <td>A classic, versatile, and understated elegance.</td>\n",
       "      <td>Bodycon style, designed to closely follow the ...</td>\n",
       "      <td>Appropriate for various occasions, ranging fro...</td>\n",
       "    </tr>\n",
       "    <tr>\n",
       "      <th>1</th>\n",
       "      <td>item160883176.jpg</td>\n",
       "      <td>An elegant mid-length dress in a deep black co...</td>\n",
       "      <td>Cocktail dress.</td>\n",
       "      <td>Solid deep black with a glossy shine and semi-...</td>\n",
       "      <td>Appears to be made of a satin-like fabric with...</td>\n",
       "      <td>Sweetheart neckline, ruched bodice, sleeveless...</td>\n",
       "      <td>Classic and sophisticated, with a hint of vint...</td>\n",
       "      <td>Fit-and-flare silhouette with a defined waist ...</td>\n",
       "      <td>Suitable for formal events, such as cocktail p...</td>\n",
       "    </tr>\n",
       "    <tr>\n",
       "      <th>2</th>\n",
       "      <td>item160884729.jpg</td>\n",
       "      <td>A calf-length dress with vibrant and colorful ...</td>\n",
       "      <td>Midi dress.</td>\n",
       "      <td>Bright hues of pink, green, and red dominate w...</td>\n",
       "      <td>Appears to be a lightweight, possibly silk-lik...</td>\n",
       "      <td>Long sleeves with a gentle puff at the shoulde...</td>\n",
       "      <td>The dress exudes a lively, tropical vibe that'...</td>\n",
       "      <td>The dress has a loose and flowing cut with a c...</td>\n",
       "      <td>Ideal for spring and summer events, such as re...</td>\n",
       "    </tr>\n",
       "    <tr>\n",
       "      <th>3</th>\n",
       "      <td>item160885991.jpg</td>\n",
       "      <td>A mid-calf length, coral red dress with puffed...</td>\n",
       "      <td>Midi dress.</td>\n",
       "      <td>A solid coral red with a vibrant hue.</td>\n",
       "      <td>Appears to be a lightweight, semi-sheer fabric...</td>\n",
       "      <td>The dress features short puffed sleeves with e...</td>\n",
       "      <td>It exudes a playful yet elegant summer vibe wi...</td>\n",
       "      <td>The dress has a loose and flowing cut that lik...</td>\n",
       "      <td>Perfect for casual summer events, such as brun...</td>\n",
       "    </tr>\n",
       "    <tr>\n",
       "      <th>4</th>\n",
       "      <td>item160886021.jpg</td>\n",
       "      <td>A sleeveless, knee-length lace dress in a cris...</td>\n",
       "      <td>Lace dress.</td>\n",
       "      <td>Pure white with a homogenous color throughout,...</td>\n",
       "      <td>Lace fabric with a floral pattern, possibly a ...</td>\n",
       "      <td>Sleeveless with a high neckline, a visible sea...</td>\n",
       "      <td>Exhibits a classic and elegant vibe with a hin...</td>\n",
       "      <td>Straight cut that gently contours around the b...</td>\n",
       "      <td>Ideal for formal daytime events, such as brida...</td>\n",
       "    </tr>\n",
       "  </tbody>\n",
       "</table>\n",
       "</div>"
      ],
      "text/plain": [
       "            filename                                Overall Description  \\\n",
       "0  item154048282.jpg  A long-sleeved black dress with a modest scoop...   \n",
       "1  item160883176.jpg  An elegant mid-length dress in a deep black co...   \n",
       "2  item160884729.jpg  A calf-length dress with vibrant and colorful ...   \n",
       "3  item160885991.jpg  A mid-calf length, coral red dress with puffed...   \n",
       "4  item160886021.jpg  A sleeveless, knee-length lace dress in a cris...   \n",
       "\n",
       "     Specific Category                                              Color  \\\n",
       "0  Long-sleeved dress.   Solid black with no visible patterns or designs.   \n",
       "1      Cocktail dress.  Solid deep black with a glossy shine and semi-...   \n",
       "2          Midi dress.  Bright hues of pink, green, and red dominate w...   \n",
       "3          Midi dress.              A solid coral red with a vibrant hue.   \n",
       "4          Lace dress.  Pure white with a homogenous color throughout,...   \n",
       "\n",
       "                                            Material  \\\n",
       "0  Appears to be a knit fabric, likely a stretch ...   \n",
       "1  Appears to be made of a satin-like fabric with...   \n",
       "2  Appears to be a lightweight, possibly silk-lik...   \n",
       "3  Appears to be a lightweight, semi-sheer fabric...   \n",
       "4  Lace fabric with a floral pattern, possibly a ...   \n",
       "\n",
       "                                            Features  \\\n",
       "0  Simple scoop neckline, long fitted sleeves, an...   \n",
       "1  Sweetheart neckline, ruched bodice, sleeveless...   \n",
       "2  Long sleeves with a gentle puff at the shoulde...   \n",
       "3  The dress features short puffed sleeves with e...   \n",
       "4  Sleeveless with a high neckline, a visible sea...   \n",
       "\n",
       "                                                Vibe  \\\n",
       "0    A classic, versatile, and understated elegance.   \n",
       "1  Classic and sophisticated, with a hint of vint...   \n",
       "2  The dress exudes a lively, tropical vibe that'...   \n",
       "3  It exudes a playful yet elegant summer vibe wi...   \n",
       "4  Exhibits a classic and elegant vibe with a hin...   \n",
       "\n",
       "                                                 Cut  \\\n",
       "0  Bodycon style, designed to closely follow the ...   \n",
       "1  Fit-and-flare silhouette with a defined waist ...   \n",
       "2  The dress has a loose and flowing cut with a c...   \n",
       "3  The dress has a loose and flowing cut that lik...   \n",
       "4  Straight cut that gently contours around the b...   \n",
       "\n",
       "                                            Occasion  \n",
       "0  Appropriate for various occasions, ranging fro...  \n",
       "1  Suitable for formal events, such as cocktail p...  \n",
       "2  Ideal for spring and summer events, such as re...  \n",
       "3  Perfect for casual summer events, such as brun...  \n",
       "4  Ideal for formal daytime events, such as brida...  "
      ]
     },
     "execution_count": 3,
     "metadata": {},
     "output_type": "execute_result"
    }
   ],
   "source": [
    "# Load the CSV file into a DataFrame\n",
    "captions = pd.read_csv(captions_csv_path)\n",
    "\n",
    "# Define a function to parse the descriptions\n",
    "def parse_description(description):\n",
    "    # Create a dictionary to hold the parsed data\n",
    "    parsed_data = {\n",
    "        'Overall Description': None,\n",
    "        'Specific Category': None,\n",
    "        'Color': None,\n",
    "        'Material': None,\n",
    "        'Features': None,\n",
    "        'Vibe': None,\n",
    "        'Cut': None,\n",
    "        'Occasion': None\n",
    "    }\n",
    "    # Split the description into lines\n",
    "    lines = description.split('\\n')\n",
    "    # Process each line\n",
    "    for line in lines:\n",
    "        # Use regex to capture the field name and value\n",
    "        match = re.match(r'- (.*?): (.*)', line)\n",
    "        if match:\n",
    "            field_name = match.group(1).strip()\n",
    "            field_value = match.group(2).strip()\n",
    "            # Map the field name to the corresponding dictionary key\n",
    "            if field_name in parsed_data and field_name:\n",
    "                parsed_data[field_name] = field_value\n",
    "    return pd.Series(parsed_data)\n",
    "\n",
    "# Apply the function to each description and join the result to the original DataFrame\n",
    "parsed_descriptions = captions['description'].apply(parse_description)\n",
    "captions = captions.join(parsed_descriptions)\n",
    "\n",
    "#drop descriptions column\n",
    "captions.drop('description', axis=1, inplace=True)\n",
    "\n",
    "# drop the images with none values\n",
    "captions = captions.dropna().reset_index(drop=True)\n",
    "# captions = captions.iloc[50:52]\n",
    "captions.head()"
   ]
  },
  {
   "cell_type": "markdown",
   "metadata": {},
   "source": [
    "# Call Embedding Function"
   ]
  },
  {
   "cell_type": "code",
   "execution_count": 5,
   "metadata": {},
   "outputs": [],
   "source": [
    "# Assume captions is a pandas DataFrame with text data in each column\n",
    "\n",
    "try:\n",
    "    with open(embeddings_json_path, 'r') as f:\n",
    "        embeddings_dict = json.load(f)\n",
    "except FileNotFoundError:\n",
    "    # Initialize a dictionary to store embeddings for each column\n",
    "    embeddings_dict = {\n",
    "        'Overall Description': [],\n",
    "        'Specific Category': [],\n",
    "        'Color': [],\n",
    "        'Material': [],\n",
    "        'Features': [],\n",
    "        'Vibe': [],\n",
    "        'Cut': [],\n",
    "        'Occasion': []\n",
    "    }\n",
    "\n",
    "# Define the batch size to send request in one chunk to openai api\n",
    "batch_size = 50\n",
    "\n",
    "# Function to process a batch of texts and return their embeddings\n",
    "def process_batch(text_list, subembed_key):\n",
    "    batch_embeddings = embed_caption_api(text_list, model=f\"text-embedding-3-{emb_type}\")\n",
    "    embeddings_dict[subembed_key].extend(batch_embeddings)\n",
    "    # save embeddings regularly\n",
    "    with open(embeddings_json_path, 'w') as f:\n",
    "        json.dump(embeddings_dict, f, indent=4)\n",
    "    \n",
    "# Loop through each pandas column (subembed_key) and get embeddings for each entry\n",
    "for subembed_key in embeddings_dict.keys():\n",
    "    text_list = []  # Initialize/reset the list for each column\n",
    "    for text in captions[subembed_key]:\n",
    "        # Clean the text and add it to the batch list\n",
    "        text_list.append(text.replace(\"\\n\", \" \"))\n",
    "        \n",
    "        # Check if the batch size is reached or it's the end of the list\n",
    "        if len(text_list) == batch_size:\n",
    "            # Process the current batch\n",
    "            process_batch(text_list, subembed_key)\n",
    "            # Reset the list for the next batch\n",
    "            text_list = []\n",
    "    \n",
    "    # Process any remaining texts in the last batch (if not empty)\n",
    "    if text_list:\n",
    "        process_batch(text_list, subembed_key)\n"
   ]
  },
  {
   "cell_type": "code",
   "execution_count": 6,
   "metadata": {},
   "outputs": [
    {
     "data": {
      "text/plain": [
       "200"
      ]
     },
     "execution_count": 6,
     "metadata": {},
     "output_type": "execute_result"
    }
   ],
   "source": [
    "len(embeddings_dict[\"Occasion\"])"
   ]
  },
  {
   "cell_type": "markdown",
   "metadata": {},
   "source": [
    "# Save embeddings - create sQlite database and connect to it from here!"
   ]
  },
  {
   "cell_type": "code",
   "execution_count": null,
   "metadata": {},
   "outputs": [],
   "source": [
    "\n",
    "# with open(embeddings_json_path, 'w') as f:\n",
    "#     json.dump(embeddings_dict, f, indent=4)\n",
    "    \n",
    "#maybe in future, when you have a bigger database, json might be slower, use yaml instead"
   ]
  }
 ],
 "metadata": {
  "kernelspec": {
   "display_name": ".venv",
   "language": "python",
   "name": "python3"
  },
  "language_info": {
   "codemirror_mode": {
    "name": "ipython",
    "version": 3
   },
   "file_extension": ".py",
   "mimetype": "text/x-python",
   "name": "python",
   "nbconvert_exporter": "python",
   "pygments_lexer": "ipython3",
   "version": "3.11.8"
  }
 },
 "nbformat": 4,
 "nbformat_minor": 2
}
