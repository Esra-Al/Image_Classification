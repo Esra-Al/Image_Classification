{
 "cells": [
  {
   "cell_type": "markdown",
   "metadata": {},
   "source": [
    "# import libraries"
   ]
  },
  {
   "cell_type": "code",
   "execution_count": 12,
   "metadata": {},
   "outputs": [],
   "source": [
    "import json\n",
    "import re\n",
    "import os\n",
    "from PIL import Image\n",
    "import matplotlib.pyplot as plt\n",
    "from C_D_create_embeddings import embed_caption_api"
   ]
  },
  {
   "cell_type": "markdown",
   "metadata": {},
   "source": [
    "# query embeddings"
   ]
  },
  {
   "cell_type": "code",
   "execution_count": null,
   "metadata": {},
   "outputs": [],
   "source": [
    "# Initialize a dictionary to store embeddings for each column\n",
    "query_emb_dict = {\n",
    "    'Specific Category': [],\n",
    "    'Color': [],\n",
    "    'Material': [],\n",
    "    'Features': [],\n",
    "    'Style': [],\n",
    "    'Occasion': []\n",
    "}\n",
    "\n",
    "\n",
    "# Loop through each pandas column (subembed_key) and get embeddings for each entry\n",
    "for subembed_key in query_emb_dict.keys():\n",
    "    text = query_emb_dict[subembed_key] # Initialize/reset the list for each column\n",
    "    if text:\n",
    "        query_emb_dict[subembed_key].append(embed_caption_api([text]))\n",
    "    \n"
   ]
  },
  {
   "cell_type": "markdown",
   "metadata": {},
   "source": [
    "# calculate similarity score"
   ]
  },
  {
   "cell_type": "code",
   "execution_count": null,
   "metadata": {},
   "outputs": [],
   "source": [
    "\n",
    "# search for the best match between query and database embeddings\n",
    "\n",
    "def norm_embeddings(embeds):\n",
    "    norms = torch.norm(embeds, dim=1, keepdim=True)\n",
    "    normalized_embeddings = embeds / norms\n",
    "    return normalized_embeddings\n",
    "\n",
    "def torchify_norm(emb_dict):\n",
    "    new_dict = {}\n",
    "    for col, val in emb_dict.items():\n",
    "        torch_val = torch.tensor(val)\n",
    "        if val:\n",
    "            new_dict[col] = norm_embeddings(torch_val)\n",
    "    return new_dict\n",
    "\n",
    "query_emb_dict_torch = torchify_norm(query_emb_dict)\n",
    "# To Do: load embeddings from the database\n",
    "embeddings_dict_torch = torchify_norm(embeddings_dict)\n",
    "\n",
    "\n",
    "def search_match(query_emb_dict_torch, embeddings_dict_torch, score_weights):\n",
    "    N = embeddings_dict_torch[\"Color\"].shape[0]\n",
    "    weighted_sim = torch.zeros((1, N))\n",
    "    for col, val in query_emb_dict_torch.items(): \n",
    "        cosine_sim_matrix = torch.mm(val, embeddings_dict_torch[col].t()) # or use @\n",
    "        weighted_sim +=  cosine_sim_matrix * score_weights[col]      \n",
    "    return weighted_sim\n",
    "\n",
    "scores = search_match(query_emb_dict_torch, embeddings_dict_torch, score_weights)\n",
    "# show the best matching 3 images"
   ]
  },
  {
   "cell_type": "markdown",
   "metadata": {},
   "source": [
    "# visualize top 3 best matching images"
   ]
  },
  {
   "cell_type": "code",
   "execution_count": null,
   "metadata": {},
   "outputs": [],
   "source": [
    "output_dir = \"C:/Users/Esra/Desktop/Deep_Learning/Image_Classification/Fashion/Classify_ThreadUp_Images/data/StanfordJpegs/dedupped_images/\"\n",
    "\n",
    "top_ix = scores.topk(3).indices.tolist()[0]\n",
    "# Iterate over the responses and display each image with its description\n",
    "for item in top_ix:\n",
    "    \n",
    "    img_path = os.path.join(output_dir, captions[\"filename\"][item])\n",
    "    \n",
    "    # Open the image\n",
    "    img = Image.open(img_path)\n",
    "\n",
    "    # Set up the matplotlib figure\n",
    "    plt.figure(figsize=(6, 6))\n",
    "\n",
    "    # Display the image\n",
    "    plt.imshow(img)\n",
    "    plt.axis('off')  # Remove axis ticks\n",
    "\n",
    "    # Display the description\n",
    "    plt.title(captions[\"description\"][item], wrap=True)\n",
    "\n",
    "    # Show the plot\n",
    "    plt.show()"
   ]
  }
 ],
 "metadata": {
  "kernelspec": {
   "display_name": ".venv",
   "language": "python",
   "name": "python3"
  },
  "language_info": {
   "codemirror_mode": {
    "name": "ipython",
    "version": 3
   },
   "file_extension": ".py",
   "mimetype": "text/x-python",
   "name": "python",
   "nbconvert_exporter": "python",
   "pygments_lexer": "ipython3",
   "version": "3.11.8"
  }
 },
 "nbformat": 4,
 "nbformat_minor": 2
}
