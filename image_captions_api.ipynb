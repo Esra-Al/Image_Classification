{
 "cells": [
  {
   "cell_type": "code",
   "execution_count": 20,
   "metadata": {},
   "outputs": [],
   "source": [
    "import os\n",
    "from dotenv import load_dotenv\n",
    "from pprint import pprint\n",
    "import base64\n",
    "import json\n",
    "import mimetypes\n",
    "import os\n",
    "import requests\n"
   ]
  },
  {
   "cell_type": "code",
   "execution_count": 10,
   "metadata": {},
   "outputs": [],
   "source": [
    "## access to API key\n",
    " \n",
    "notebook_directory = os.getcwd()\n",
    "\n",
    "# Construct the absolute path to the api.env file\n",
    "env_file_path = os.path.join(notebook_directory, \"api.env\")\n",
    "\n",
    "# Load environment variables from the api.env file\n",
    "load_dotenv(env_file_path)\n",
    "\n",
    "# Access the API key\n",
    "api_key = os.getenv(\"OPENAI_API_KEY\")"
   ]
  },
  {
   "cell_type": "code",
   "execution_count": 19,
   "metadata": {},
   "outputs": [],
   "source": [
    "# !setx OPENAI_API_KEY api_key\n",
    "\n",
    "os.environ['OPENAI_API_KEY'] = api_key"
   ]
  },
  {
   "cell_type": "code",
   "execution_count": 21,
   "metadata": {},
   "outputs": [],
   "source": [
    "def encode_image(image_path: str):\n",
    "    \"\"\"Encodes an image to base64 and determines the correct MIME type.\"\"\"\n",
    "    mime_type, _ = mimetypes.guess_type(image_path)\n",
    "    if mime_type is None:\n",
    "        raise ValueError(f\"Cannot determine MIME type for {image_path}\")\n",
    "\n",
    "    with open(image_path, \"rb\") as image_file:\n",
    "        encoded_string = base64.b64encode(image_file.read()).decode('utf-8')\n",
    "        return f\"data:{mime_type};base64,{encoded_string}\"\n",
    "\n",
    "\n",
    "def create_payload(images: list[str], prompt: str, model=\"gpt-4-vision-preview\", max_tokens=100, detail=\"high\"):\n",
    "    \"\"\"Creates the payload for the API request.\"\"\"\n",
    "    messages = [\n",
    "        {\n",
    "            \"role\": \"user\",\n",
    "            \"content\": [\n",
    "                {\n",
    "                    \"type\": \"text\",\n",
    "                    \"text\": prompt,\n",
    "                },\n",
    "            ],\n",
    "        },\n",
    "    ]\n",
    "\n",
    "    for image in images:\n",
    "        base64_image = encode_image(image)\n",
    "        messages[0][\"content\"].append({\n",
    "            \"type\": \"image_url\",\n",
    "            \"image_url\": {\n",
    "                \"url\": base64_image,\n",
    "                \"detail\": detail,\n",
    "            }\n",
    "        })\n",
    "\n",
    "    return {\n",
    "        \"model\": model,\n",
    "        \"messages\": messages,\n",
    "        \"max_tokens\": max_tokens\n",
    "    }\n",
    "\n",
    "\n",
    "def query_openai(payload):\n",
    "    \"\"\"Sends a request to the OpenAI API and prints the response.\"\"\"\n",
    "    headers = {\n",
    "        \"Content-Type\": \"application/json\",\n",
    "        \"Authorization\": f\"Bearer {api_key}\"\n",
    "    }\n",
    "    response = requests.post(\"https://api.openai.com/v1/chat/completions\", headers=headers, json=payload)\n",
    "    return response.json()"
   ]
  },
  {
   "cell_type": "code",
   "execution_count": 22,
   "metadata": {},
   "outputs": [
    {
     "name": "stdout",
     "output_type": "stream",
     "text": [
      "{'id': 'chatcmpl-8VT7PLzLBrIr50rW8QGk24tWLbuTB', 'object': 'chat.completion', 'created': 1702510791, 'model': 'gpt-4-1106-vision-preview', 'usage': {'prompt_tokens': 779, 'completion_tokens': 38, 'total_tokens': 817}, 'choices': [{'message': {'role': 'assistant', 'content': 'The item is a heathered grey, sleeveless tank top with the Eiffel Tower and the words \"Paris France\" and \"A&Fitch\" printed on the front.'}, 'finish_details': {'type': 'stop', 'stop': '<|fim_suffix|>'}, 'index': 0}]}\n"
     ]
    }
   ],
   "source": [
    "image_paths = [\"C:/Users/Esra/Desktop/Deep_Learning/Image_Classification/Fashion/Classify_ThreadUp_Images/data/StanfordJpegs/item57221724.jpg\"]\n",
    "prompt = \"describe the fashion item with one sentence\"\n",
    "payload = create_payload(image_paths, prompt)\n",
    "response = query_openai(payload)\n",
    "print(response)"
   ]
  }
 ],
 "metadata": {
  "kernelspec": {
   "display_name": ".venv",
   "language": "python",
   "name": "python3"
  },
  "language_info": {
   "codemirror_mode": {
    "name": "ipython",
    "version": 3
   },
   "file_extension": ".py",
   "mimetype": "text/x-python",
   "name": "python",
   "nbconvert_exporter": "python",
   "pygments_lexer": "ipython3",
   "version": "3.11.7"
  }
 },
 "nbformat": 4,
 "nbformat_minor": 2
}
